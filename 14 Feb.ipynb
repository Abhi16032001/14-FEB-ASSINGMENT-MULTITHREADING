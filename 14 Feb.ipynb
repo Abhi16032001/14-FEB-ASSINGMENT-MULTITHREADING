{
 "cells": [
  {
   "cell_type": "markdown",
   "id": "5fa42a12-07cc-4e1f-913e-1e031be2cc4a",
   "metadata": {},
   "source": [
    "Q1. What is multithreading? why it is used? Name the module used to handle thread in python.\n",
    "\n",
    "Ans: Multithreading : Multithreading is the technique for improving the performance of application by allowing multiple threads to execute concurrently within the program. it is implimented on program by creating a new thread and passing function in thet thread. you can then start the program and it will run concurrrently within the main thread of the programm\n",
    "\n",
    "     Multithreading is used to improve the performance of program. you can run multiple programs at a same time withoust waiting for one program to finish before running the next one. This can be particularly useful for tasks that involve waiting for external resources, such as reading from a file or making a network request. \n",
    "\n",
    "     In python, The \"threading\" module is used to create and manage threads\n"
   ]
  },
  {
   "cell_type": "markdown",
   "id": "42850e5f-4739-48ce-8c22-bb06f0d83b10",
   "metadata": {},
   "source": [
    "Q2). Why threading module used? rite the use of the following functions\n",
    "( activeCount\n",
    "currentThread\n",
    "enumerate)"
   ]
  },
  {
   "cell_type": "code",
   "execution_count": null,
   "id": "6e150fca-2bf6-4526-93b1-0eb571851c39",
   "metadata": {},
   "outputs": [],
   "source": [
    "# Threading module is used to run multiple programs with single process."
   ]
  },
  {
   "cell_type": "code",
   "execution_count": 2,
   "id": "74a7ce06-9c4b-4500-962a-a98d288e6303",
   "metadata": {},
   "outputs": [
    {
     "name": "stdout",
     "output_type": "stream",
     "text": [
      "count2 11\n",
      "count1 10\n",
      "count3 9\n"
     ]
    }
   ],
   "source": [
    "# Activecount- Threading module is used to count the number of active or running threads\n",
    "\n",
    "import time\n",
    "import threading\n",
    "\n",
    "def subroutine1(i):\n",
    "    time.sleep(1)\n",
    "    print('count1',threading.active_count())\n",
    "\n",
    "def subroutine2(i):\n",
    "    time.sleep(1)\n",
    "    print('count2',threading.active_count())\n",
    "\n",
    "def subroutine3(i):\n",
    "    time.sleep(1)\n",
    "    print('count3',threading.active_count())\n",
    "    \n",
    "thread1=threading.Thread(target=subroutine1,args=(100,))\n",
    "thread2=threading.Thread(target=subroutine2,args=(200,))\n",
    "thread3=threading.Thread(target=subroutine3,args=(300,))\n",
    "thread1.start()\n",
    "thread2.start()\n",
    "thread3.start()\n",
    "thread3.join()\n",
    "thread2.join()\n",
    "thread1.join()"
   ]
  },
  {
   "cell_type": "code",
   "execution_count": 3,
   "id": "cdb7dd2c-ec8b-407b-9126-336b73309adb",
   "metadata": {},
   "outputs": [
    {
     "name": "stdout",
     "output_type": "stream",
     "text": [
      "count1count2 <Thread(Thread-9 (subroutine2), started 140308645926464)>\n",
      " <Thread(Thread-8 (subroutine1), started 140308629141056)>\n",
      "count3 <Thread(Thread-10 (subroutine3), started 140308637533760)>\n"
     ]
    }
   ],
   "source": [
    "# CurrentThread - current_thread() is an inbuilt method of the threading module in Python.\n",
    "# It is used to return the current Thread object, which corresponds to the caller's thread of control.\n",
    "import time\n",
    "import threading\n",
    "\n",
    "def subroutine1(i):\n",
    "    time.sleep(1)\n",
    "    print('count1',threading.current_thread())\n",
    "\n",
    "def subroutine2(i):\n",
    "    time.sleep(1)\n",
    "    print('count2',threading.current_thread())\n",
    "\n",
    "def subroutine3(i):\n",
    "    time.sleep(1)\n",
    "    print('count3',threading.current_thread())\n",
    "    \n",
    "thread1=threading.Thread(target=subroutine1,args=(100,))\n",
    "thread2=threading.Thread(target=subroutine2,args=(200,))\n",
    "thread3=threading.Thread(target=subroutine3,args=(300,))\n",
    "thread1.start()\n",
    "thread2.start()\n",
    "thread3.start()\n",
    "thread3.join()\n",
    "thread2.join()\n",
    "thread1.join()"
   ]
  },
  {
   "cell_type": "code",
   "execution_count": 5,
   "id": "a3580250-2658-417a-a72f-bbc9974e08f6",
   "metadata": {},
   "outputs": [
    {
     "name": "stdout",
     "output_type": "stream",
     "text": [
      "count2 [<_MainThread(MainThread, started 140309206050624)>, <Thread(IOPub, started daemon 140309065365056)>, <Heartbeat(Heartbeat, started daemon 140309056972352)>, <Thread(Thread-3 (_watch_pipe_fd), started daemon 140309031794240)>, <Thread(Thread-4 (_watch_pipe_fd), started daemon 140309023401536)>, <ControlThread(Control, started daemon 140309015008832)>, <HistorySavingThread(IPythonHistorySavingThread, started 140308662711872)>, <ParentPollerUnix(Thread-2, started daemon 140308654319168)>, <Thread(Thread-11 (subroutine1), started 140308637533760)>, <Thread(Thread-12 (subroutine2), started 140308629141056)>, <Thread(Thread-13 (subroutine3), started 140308645926464)>]\n",
      "count3 [<_MainThread(MainThread, started 140309206050624)>, <Thread(IOPub, started daemon 140309065365056)>, <Heartbeat(Heartbeat, started daemon 140309056972352)>, <Thread(Thread-3 (_watch_pipe_fd), started daemon 140309031794240)>, <Thread(Thread-4 (_watch_pipe_fd), started daemon 140309023401536)>, <ControlThread(Control, started daemon 140309015008832)>, <HistorySavingThread(IPythonHistorySavingThread, started 140308662711872)>, <ParentPollerUnix(Thread-2, started daemon 140308654319168)>, <Thread(Thread-11 (subroutine1), started 140308637533760)>, <Thread(Thread-13 (subroutine3), started 140308645926464)>]\n",
      "count1 [<_MainThread(MainThread, started 140309206050624)>, <Thread(IOPub, started daemon 140309065365056)>, <Heartbeat(Heartbeat, started daemon 140309056972352)>, <Thread(Thread-3 (_watch_pipe_fd), started daemon 140309031794240)>, <Thread(Thread-4 (_watch_pipe_fd), started daemon 140309023401536)>, <ControlThread(Control, started daemon 140309015008832)>, <HistorySavingThread(IPythonHistorySavingThread, started 140308662711872)>, <ParentPollerUnix(Thread-2, started daemon 140308654319168)>, <Thread(Thread-11 (subroutine1), started 140308637533760)>]\n"
     ]
    }
   ],
   "source": [
    "# enumerate() is an inbuilt method of the threading module in Python. \n",
    "#It is used to return the list of all the Thread class objects which are currently alive. \n",
    "#It also includes daemonic threads, the main thread, and dummy thread objects created by current_thread().\n",
    "# It does not count the threads that have terminated or which have not started yet.\n",
    "import time\n",
    "import threading\n",
    "\n",
    "def subroutine1(i):\n",
    "    time.sleep(1)\n",
    "    print('count1',threading.enumerate())\n",
    "\n",
    "def subroutine2(i):\n",
    "    time.sleep(1)\n",
    "    print('count2',threading.enumerate())\n",
    "\n",
    "def subroutine3(i):\n",
    "    time.sleep(1)\n",
    "    print('count3',threading.enumerate())\n",
    "    \n",
    "thread1=threading.Thread(target=subroutine1,args=(100,))\n",
    "thread2=threading.Thread(target=subroutine2,args=(200,))\n",
    "thread3=threading.Thread(target=subroutine3,args=(300,))\n",
    "\n",
    "thread1.start()\n",
    "thread2.start()\n",
    "thread3.start()\n",
    "thread3.join()\n",
    "thread2.join()\n",
    "thread1.join()"
   ]
  },
  {
   "cell_type": "markdown",
   "id": "4ff03900-b424-468e-b758-b3711f739827",
   "metadata": {},
   "source": [
    "3. Explain the following functions\n",
    "( run\n",
    "start\n",
    "join\n",
    "' isAlive)"
   ]
  },
  {
   "cell_type": "code",
   "execution_count": 6,
   "id": "a242afcc-b055-4fe4-b5ad-8c99a44a9816",
   "metadata": {},
   "outputs": [
    {
     "name": "stdout",
     "output_type": "stream",
     "text": [
      "thread1 100\n",
      "thread2 200\n",
      "thread3 300\n"
     ]
    }
   ],
   "source": [
    "# run() method is used inorder give thread activity\n",
    "\n",
    "import time\n",
    "import threading\n",
    "\n",
    "def subroutine1(i):\n",
    "    time.sleep(1)\n",
    "    print('thread1',i)\n",
    "\n",
    "def subroutine2(i):\n",
    "    time.sleep(1)\n",
    "    print('thread2',i)\n",
    "\n",
    "def subroutine3(i):\n",
    "    time.sleep(1)\n",
    "    print('thread3',i)\n",
    "    \n",
    "thread1=threading.Thread(target=subroutine1,args=(100,))\n",
    "thread2=threading.Thread(target=subroutine2,args=(200,))\n",
    "thread3=threading.Thread(target=subroutine3,args=(300,))\n",
    "\n",
    "thread1.run()\n",
    "thread2.run()\n",
    "thread3.run()\n"
   ]
  },
  {
   "cell_type": "code",
   "execution_count": 7,
   "id": "775fe79f-7be4-4236-b5a5-233159887eaa",
   "metadata": {},
   "outputs": [
    {
     "name": "stdout",
     "output_type": "stream",
     "text": [
      "thread1 100\n",
      "thread3 300\n",
      "thread2 200\n"
     ]
    }
   ],
   "source": [
    "# Start() method is used inorder to start a particular thread\n",
    "\n",
    "import time\n",
    "import threading\n",
    "\n",
    "def subroutine1(i):\n",
    "    time.sleep(1)\n",
    "    print('thread1',i)\n",
    "\n",
    "def subroutine2(i):\n",
    "    time.sleep(1)\n",
    "    print('thread2',i)\n",
    "\n",
    "def subroutine3(i):\n",
    "    time.sleep(1)\n",
    "    print('thread3',i)\n",
    "    \n",
    "thread1=threading.Thread(target=subroutine1,args=(100,))\n",
    "thread2=threading.Thread(target=subroutine2,args=(200,))\n",
    "thread3=threading.Thread(target=subroutine3,args=(300,))\n",
    "\n",
    "thread1.start()\n",
    "thread2.start()\n",
    "thread3.start()\n"
   ]
  },
  {
   "cell_type": "code",
   "execution_count": 8,
   "id": "1c58946f-f6b0-418a-bbaa-9c6929ac8958",
   "metadata": {},
   "outputs": [
    {
     "name": "stdout",
     "output_type": "stream",
     "text": [
      "thread1 100\n",
      "thread2 200\n",
      "thread3 300\n"
     ]
    }
   ],
   "source": [
    "# Join()-- the current thread will block until that thread finished. So you are waiting for the thread to finish, \n",
    "# preventing you from starting any other thread. The idea behind join is to wait for other threads before continuing.\n",
    "import time\n",
    "import threading\n",
    "\n",
    "def subroutine1(i):\n",
    "    time.sleep(1)\n",
    "    print('thread1',i)\n",
    "\n",
    "def subroutine2(i):\n",
    "    time.sleep(1)\n",
    "    print('thread2',i)\n",
    "\n",
    "def subroutine3(i):\n",
    "    time.sleep(1)\n",
    "    print('thread3',i)\n",
    "    \n",
    "thread1=threading.Thread(target=subroutine1,args=(100,))\n",
    "thread2=threading.Thread(target=subroutine2,args=(200,))\n",
    "thread3=threading.Thread(target=subroutine3,args=(300,))\n",
    "\n",
    "thread1.start()\n",
    "thread2.start()\n",
    "thread3.start()\n",
    "thread3.join()\n",
    "thread2.join()\n",
    "thread1.join()"
   ]
  },
  {
   "cell_type": "code",
   "execution_count": 9,
   "id": "2bde893e-b96b-4c01-931a-50a1a19e705d",
   "metadata": {},
   "outputs": [
    {
     "name": "stdout",
     "output_type": "stream",
     "text": [
      "is thread active True\n",
      "thread1 100\n",
      "is thread active False\n"
     ]
    }
   ],
   "source": [
    "# isalive() method is used to return whether an thread is currently active or not\n",
    "\n",
    "import time\n",
    "import threading\n",
    "\n",
    "def subroutine1(i):\n",
    "    print('is thread active',thread.is_alive())\n",
    "    time.sleep(1)\n",
    "    print('thread1',i)\n",
    " \n",
    "thread=threading.Thread(target=subroutine1,args=(100,))\n",
    "\n",
    "\n",
    "thread.start()\n",
    "thread.join()\n",
    "print('is thread active',thread.is_alive())"
   ]
  },
  {
   "cell_type": "markdown",
   "id": "26c5d76d-691d-4b94-9009-cfaf4c3b140a",
   "metadata": {},
   "source": [
    "4. Write a python program to create two threads. Thread one must print the list of squares and thread\n",
    "two must print the list of cubes"
   ]
  },
  {
   "cell_type": "code",
   "execution_count": 10,
   "id": "49e43a1c-f297-47c6-9348-2a40d57693a1",
   "metadata": {},
   "outputs": [
    {
     "name": "stdout",
     "output_type": "stream",
     "text": [
      "squares of list for 1 value is 1\n",
      "squares of list for 2 value is 4\n",
      "squares of list for 3 value is 9\n",
      "squares of list for 4 value is 16\n",
      "squares of list for 5 value is 25\n",
      "squares of list for 6 value is 36\n",
      "squares of list for 7 value is 49\n",
      "squares of list for 8 value is 64\n",
      "squares of list for 9 value is 81\n",
      "squares of list for 10 value is 100\n",
      "cube of list for 1 value is 1\n",
      "cube of list for 2 value is 8\n",
      "cube of list for 3 value is 27\n",
      "cube of list for 4 value is 64\n",
      "cube of list for 5 value is 125\n",
      "cube of list for 6 value is 216\n",
      "cube of list for 7 value is 343\n",
      "cube of list for 8 value is 512\n",
      "cube of list for 9 value is 729\n",
      "cube of list for 10 value is 1000\n"
     ]
    }
   ],
   "source": [
    "import threading\n",
    "\n",
    "\n",
    "def square(s,e):\n",
    "    for i in range(s,e+1):\n",
    "        print(f'squares of list for {i} value is {i*i}')\n",
    "\n",
    "def cubes(s,e):\n",
    "    for i in range(s,e+1):\n",
    "        print(f'cube of list for {i} value is {i**3}')\n",
    "        \n",
    "    \n",
    "m1=threading.Thread(target=square,args=(1,10))\n",
    "m2=threading.Thread(target=cubes,args=(1,10))\n",
    "\n",
    "m1.start()\n",
    "m2.start()\n",
    "m2.join()\n",
    "m1.join()"
   ]
  },
  {
   "cell_type": "markdown",
   "id": "113c1c06-c5be-4b03-9e9d-74db1a179874",
   "metadata": {},
   "source": [
    "Q5. State advantages and disadvantage of multithreading.\n",
    "\n",
    "Ans : Advantage :\n",
    "\n",
    "    1 Improve performance : multithreading improves the performance of your application by performing the multiple    thread simultaneously. \n",
    "\n",
    "    2 Batter resource utilization : Multithreading allows you to make better use of available resources, such as the CPU and memory. By running multiple threads simultaneously.\n",
    "\n",
    "    3 Simplified code: Multithreading can simplify the design of your code by separating different tasks into different threads. This can make your code easier to read and maintain.\n",
    "\n",
    "Disadvantage:\n",
    "\n",
    "    1 Complexity: Multithreading can make your code more complex, as you need to manage multiple threads and ensure that they are synchronized correctly. This can make debugging more difficult and increase the likelihood of race conditions.\n",
    "\n",
    "    2 Increased memory usage: Each thread requires additional memory to store its state and execution context, which can increase the overall memory usage of your application.\n",
    "\n",
    "    3 imited scalability: Multithreading is limited by the number of available CPU cores. If you have more threads than CPU cores, then the performance of your application may actually decrease due to increased context switching and resource contention.\n",
    "\n",
    "\n",
    "\n"
   ]
  },
  {
   "cell_type": "markdown",
   "id": "62e4fc6e-bf31-40cd-949c-bbdba7adc219",
   "metadata": {},
   "source": [
    "Q6. Explain deadlocks and race conditions.\n",
    "\n",
    "Ans: Deadlock and race condition are two common problems that can occur in Python programs when multiple threads or processes are involved.\n",
    "\n",
    "Deadlock occurs when two or more threads or processes are blocked and waiting for each other to release a resource. This situation can arise when each thread holds a resource that another thread needs, and both threads are waiting for the other to release the resource they need. As a result, the threads are stuck in an infinite loop of waiting, and the program becomes unresponsive.\n",
    "\n",
    "For example, consider a scenario where two threads each hold a lock on a resource that the other thread needs. If both threads attempt to acquire the lock at the same time, they will both be blocked and unable to proceed, resulting in a deadlock.\n",
    "\n",
    "Race condition, on the other hand, occurs when the outcome of a program depends on the relative timing or ordering of multiple threads or processes. This can lead to unpredictable and inconsistent behavior, as the timing and order of thread execution can vary each time the program is run.\n",
    "\n",
    "For example, consider a scenario where two threads access a shared variable at the same time. If one thread reads the variable while the other thread is in the middle of writing to it, the result will depend on the timing of the threads and may be unpredictable."
   ]
  },
  {
   "cell_type": "code",
   "execution_count": null,
   "id": "73d3a118-7482-4538-8e7d-7d41ccfbf37c",
   "metadata": {},
   "outputs": [],
   "source": []
  }
 ],
 "metadata": {
  "kernelspec": {
   "display_name": "Python 3 (ipykernel)",
   "language": "python",
   "name": "python3"
  },
  "language_info": {
   "codemirror_mode": {
    "name": "ipython",
    "version": 3
   },
   "file_extension": ".py",
   "mimetype": "text/x-python",
   "name": "python",
   "nbconvert_exporter": "python",
   "pygments_lexer": "ipython3",
   "version": "3.10.8"
  }
 },
 "nbformat": 4,
 "nbformat_minor": 5
}
